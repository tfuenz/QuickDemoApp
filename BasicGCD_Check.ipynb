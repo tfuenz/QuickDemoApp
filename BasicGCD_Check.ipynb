{
  "nbformat": 4,
  "nbformat_minor": 0,
  "metadata": {
    "colab": {
      "provenance": [],
      "authorship_tag": "ABX9TyPSpQK9zw4VnKAW20UaV2oy",
      "include_colab_link": true
    },
    "kernelspec": {
      "name": "python3",
      "display_name": "Python 3"
    },
    "language_info": {
      "name": "python"
    }
  },
  "cells": [
    {
      "cell_type": "markdown",
      "metadata": {
        "id": "view-in-github",
        "colab_type": "text"
      },
      "source": [
        "<a href=\"https://colab.research.google.com/github/tfuenz/QuickDemoApp/blob/main/BasicGCD_Check.ipynb\" target=\"_parent\"><img src=\"https://colab.research.google.com/assets/colab-badge.svg\" alt=\"Open In Colab\"/></a>"
      ]
    },
    {
      "cell_type": "code",
      "execution_count": null,
      "metadata": {
        "id": "xBbF7G6-w0D4"
      },
      "outputs": [],
      "source": [
        "def gcd(x,y):\n",
        "  HunNums = range(100,1,-1)\n",
        "  for i in HunNums:\n",
        "    a = x/i\n",
        "    b = y/i\n",
        "    if int(a) == a and int(b) == b:\n",
        "        print(\"The greatest common divisor for \" + str(x) + \" and \" + str(y) + \" is \" + str(i))\n",
        "        break\n",
        "\n",
        "#The above check for GCD does not check for number pairs with GCD above 100\n",
        "#Nor does it check for the GCD of more than 2 numbers\n",
        "\n"
      ]
    }
  ]
}